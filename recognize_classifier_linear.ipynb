{
 "cells": [
  {
   "cell_type": "code",
   "execution_count": 1,
   "id": "df8d2fa2",
   "metadata": {},
   "outputs": [
    {
     "name": "stdout",
     "output_type": "stream",
     "text": [
      "✅ Dataset already present.\n",
      "✅ RidgeClassifier Accuracy: 0.866793893129771\n",
      "* Running on local URL:  http://127.0.0.1:7862\n",
      "* To create a public link, set `share=True` in `launch()`.\n"
     ]
    },
    {
     "data": {
      "text/html": [
       "<div><iframe src=\"http://127.0.0.1:7862/\" width=\"100%\" height=\"500\" allow=\"autoplay; camera; microphone; clipboard-read; clipboard-write;\" frameborder=\"0\" allowfullscreen></iframe></div>"
      ],
      "text/plain": [
       "<IPython.core.display.HTML object>"
      ]
     },
     "metadata": {},
     "output_type": "display_data"
    }
   ],
   "source": [
    "import os\n",
    "import zipfile\n",
    "import urllib.request\n",
    "import numpy as np\n",
    "from PIL import Image\n",
    "from sklearn.preprocessing import LabelEncoder\n",
    "from sklearn.model_selection import train_test_split\n",
    "from sklearn.decomposition import PCA\n",
    "from sklearn.linear_model import RidgeClassifier\n",
    "from sklearn.metrics import accuracy_score\n",
    "import gradio as gr\n",
    "\n",
    "def download_dataset():\n",
    "    dataset_url = \"https://github.com/Horea94/Fruit-Images-Dataset/archive/master.zip\"\n",
    "    dataset_zip_path = \"fruits_dataset.zip\"\n",
    "    extracted_path = \"Fruit-Images-Dataset-master\"\n",
    "\n",
    "    if not os.path.exists(extracted_path):\n",
    "        print(\"Downloading Fruits-360 dataset...\")\n",
    "        urllib.request.urlretrieve(dataset_url, dataset_zip_path)\n",
    "        with zipfile.ZipFile(dataset_zip_path, 'r') as zip_ref:\n",
    "            zip_ref.extractall(\".\")\n",
    "        print(\"✅ Dataset extracted successfully.\")\n",
    "    else:\n",
    "        print(\"✅ Dataset already present.\")\n",
    "    return extracted_path\n",
    "\n",
    "def load_images(folder, image_size=(64, 64), max_per_class=100):  # safer limit\n",
    "    images, labels = [], []\n",
    "    training_path = os.path.join(folder, \"Training\")\n",
    "    for class_name in os.listdir(training_path):\n",
    "        class_path = os.path.join(training_path, class_name)\n",
    "        if not os.path.isdir(class_path):\n",
    "            continue\n",
    "        for i, img_name in enumerate(os.listdir(class_path)):\n",
    "            if i >= max_per_class:\n",
    "                break\n",
    "            try:\n",
    "                img = Image.open(os.path.join(class_path, img_name)).convert('RGB').resize(image_size)\n",
    "                images.append(np.array(img, dtype=np.float32) / 255.0)\n",
    "                labels.append(class_name.lower())\n",
    "            except:\n",
    "                continue\n",
    "    return np.array(images, dtype=np.float32), np.array(labels)\n",
    "\n",
    "def train_linear_model(X_train, X_test, y_train, y_test):\n",
    "    X_train_flat = X_train.reshape(X_train.shape[0], -1).astype('float32')\n",
    "    X_test_flat = X_test.reshape(X_test.shape[0], -1).astype('float32')\n",
    "\n",
    "    pca = PCA(n_components=50)\n",
    "    X_train_pca = pca.fit_transform(X_train_flat)\n",
    "    X_test_pca = pca.transform(X_test_flat)\n",
    "\n",
    "    clf = RidgeClassifier()\n",
    "    clf.fit(X_train_pca, y_train)\n",
    "\n",
    "    y_pred = clf.predict(X_test_pca)\n",
    "    print(\"✅ RidgeClassifier Accuracy:\", accuracy_score(y_test, y_pred))\n",
    "    return clf, pca\n",
    "\n",
    "def predict(image, le, clf, pca):\n",
    "    img = image.resize((64, 64)).convert('RGB')\n",
    "    img_array = np.array(img, dtype=np.float32).reshape(1, -1) / 255.0\n",
    "    img_pca = pca.transform(img_array)\n",
    "    prediction = clf.predict(img_pca)\n",
    "    return f\"Predicted Fruit (Linear Model): {le.inverse_transform(prediction)[0]}\"\n",
    "\n",
    "def main():\n",
    "    dataset_folder = download_dataset()\n",
    "    X, y = load_images(dataset_folder)\n",
    "\n",
    "    le = LabelEncoder()\n",
    "    y_encoded = le.fit_transform(y)\n",
    "\n",
    "    X_train, X_test, y_train, y_test = train_test_split(X, y_encoded, test_size=0.2, random_state=42)\n",
    "    clf, pca = train_linear_model(X_train, X_test, y_train, y_test)\n",
    "\n",
    "    gr.Interface(\n",
    "        fn=lambda img: predict(img, le, clf, pca),\n",
    "        inputs=gr.Image(type=\"pil\", label=\"Upload Fruit Image\"),\n",
    "        outputs=\"text\",\n",
    "        title=\"🍋 Fruit Classification with RidgeClassifier\",\n",
    "        description=\"Upload a fruit image to classify it using Ridge (Linear Regression for Classification)\"\n",
    "    ).launch()\n",
    "\n",
    "if __name__ == \"__main__\":\n",
    "    main()\n"
   ]
  }
 ],
 "metadata": {
  "kernelspec": {
   "display_name": "base",
   "language": "python",
   "name": "python3"
  },
  "language_info": {
   "codemirror_mode": {
    "name": "ipython",
    "version": 3
   },
   "file_extension": ".py",
   "mimetype": "text/x-python",
   "name": "python",
   "nbconvert_exporter": "python",
   "pygments_lexer": "ipython3",
   "version": "3.12.7"
  }
 },
 "nbformat": 4,
 "nbformat_minor": 5
}
