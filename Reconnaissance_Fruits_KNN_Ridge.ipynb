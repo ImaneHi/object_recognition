{
  "cells": [
    {
      "cell_type": "markdown",
      "id": "7f5948de",
      "metadata": {
        "id": "7f5948de"
      },
      "source": [
        "\n",
        "# 🧠 Reconnaissance de Fruits avec KNN et Régression Linéaire\n",
        "\n",
        "Ce projet a pour objectif de comparer deux algorithmes de machine learning sur la tâche de reconnaissance de fruits à partir d'images du dataset **Fruits 360** :\n",
        "- K-Nearest Neighbors (KNN)\n",
        "- Régression linéaire multiclasse\n",
        "\n",
        "---\n"
      ]
    },
    {
      "cell_type": "code",
      "execution_count": 1,
      "id": "8251106e",
      "metadata": {
        "id": "8251106e"
      },
      "outputs": [],
      "source": [
        "\n",
        "import numpy as np\n",
        "import pandas as pd\n",
        "import matplotlib.pyplot as plt\n",
        "import seaborn as sns\n",
        "from sklearn.model_selection import train_test_split\n",
        "from sklearn.preprocessing import LabelEncoder, StandardScaler\n",
        "from sklearn.decomposition import PCA\n",
        "from sklearn.neighbors import KNeighborsClassifier\n",
        "from sklearn.linear_model import RidgeClassifier\n",
        "from sklearn.metrics import accuracy_score, classification_report, confusion_matrix\n",
        "import os\n",
        "from PIL import Image\n",
        "from tqdm import tqdm\n"
      ]
    },
    {
      "cell_type": "markdown",
      "id": "16bc3eaa",
      "metadata": {
        "id": "16bc3eaa"
      },
      "source": [
        "## 📥 Chargement du Dataset (Fruits 360)"
      ]
    },
    {
      "cell_type": "code",
      "execution_count": 3,
      "id": "128fa18e",
      "metadata": {
        "colab": {
          "base_uri": "https://localhost:8080/"
        },
        "id": "128fa18e",
        "outputId": "4e064900-c21a-4632-8f3f-a9b083d51017"
      },
      "outputs": [
        {
          "output_type": "stream",
          "name": "stdout",
          "text": [
            "Cloning into 'Fruit-Images-Dataset'...\n",
            "remote: Enumerating objects: 385861, done.\u001b[K\n",
            "remote: Counting objects: 100% (8696/8696), done.\u001b[K\n",
            "remote: Compressing objects: 100% (8662/8662), done.\u001b[K\n",
            "remote: Total 385861 (delta 39), reused 8687 (delta 34), pack-reused 377165 (from 1)\u001b[K\n",
            "Receiving objects: 100% (385861/385861), 2.10 GiB | 31.86 MiB/s, done.\n",
            "Resolving deltas: 100% (1199/1199), done.\n",
            "Updating files: 100% (90503/90503), done.\n",
            "Shape X: (26200, 64, 64, 3)\n",
            "Shape y: (26200,)\n"
          ]
        }
      ],
      "source": [
        "\n",
        "# Exemple de chemin : dataset/fruits-360/Training\n",
        "# À adapter selon l'organisation de vos fichiers\n",
        "# 📌 3. Télécharger le dataset\n",
        "!git clone https://github.com/Horea94/Fruit-Images-Dataset.git\n",
        "\n",
        "def load_images_from_folder(folder, image_size=(100, 100), max_per_class=200):\n",
        "    images = []\n",
        "    labels = []\n",
        "    for class_name in os.listdir(folder):\n",
        "        class_path = os.path.join(folder, class_name)\n",
        "        if not os.path.isdir(class_path):\n",
        "            continue\n",
        "        for i, img_name in enumerate(os.listdir(class_path)):\n",
        "            if i >= max_per_class:\n",
        "                break\n",
        "            img_path = os.path.join(class_path, img_name)\n",
        "            try:\n",
        "                img = Image.open(img_path).resize(image_size)\n",
        "                img = np.array(img)\n",
        "                images.append(img)\n",
        "                labels.append(class_name)\n",
        "            except:\n",
        "                continue\n",
        "    return np.array(images), np.array(labels)\n",
        "\n",
        "# Exemple d'utilisation\n",
        "X, y = load_images_from_folder(\"Fruit-Images-Dataset/Training\", image_size=(64, 64))\n",
        "print(\"Shape X:\", X.shape)\n",
        "print(\"Shape y:\", y.shape)\n"
      ]
    },
    {
      "cell_type": "markdown",
      "id": "9cc5edf8",
      "metadata": {
        "id": "9cc5edf8"
      },
      "source": [
        "## 🧹 Prétraitement"
      ]
    },
    {
      "cell_type": "code",
      "execution_count": 6,
      "id": "3398633e",
      "metadata": {
        "id": "3398633e"
      },
      "outputs": [],
      "source": [
        "\n",
        "# Normalisation et encodage des labels\n",
        "X_flat = X.reshape(X.shape[0], -1) / 255.0\n",
        "le = LabelEncoder()\n",
        "y_encoded = le.fit_transform(y)\n",
        "\n",
        "# Réduction de dimension (facultative)\n",
        "pca = PCA(n_components=100)\n",
        "X_pca = pca.fit_transform(X_flat)\n",
        "\n",
        "# Split\n",
        "X_train, X_test, y_train, y_test = train_test_split(X_pca, y_encoded, test_size=0.2, random_state=42)\n"
      ]
    },
    {
      "cell_type": "markdown",
      "id": "1a6a3cfc",
      "metadata": {
        "id": "1a6a3cfc"
      },
      "source": [
        "## 📊 Modèle 1 : KNN"
      ]
    },
    {
      "cell_type": "code",
      "execution_count": 11,
      "id": "ac00fedf",
      "metadata": {
        "colab": {
          "base_uri": "https://localhost:8080/",
          "height": 1000
        },
        "id": "ac00fedf",
        "outputId": "9fd2095b-b4cb-4f37-88d9-cda11fe7a47a"
      },
      "outputs": [
        {
          "output_type": "stream",
          "name": "stdout",
          "text": [
            "KNN Accuracy: 0.9952290076335878\n",
            "                     precision    recall  f1-score   support\n",
            "\n",
            "     Apple Braeburn       1.00      1.00      1.00        39\n",
            " Apple Crimson Snow       0.97      1.00      0.99        36\n",
            "     Apple Golden 1       1.00      1.00      1.00        31\n",
            "     Apple Golden 2       1.00      1.00      1.00        48\n",
            "     Apple Golden 3       0.98      1.00      0.99        47\n",
            " Apple Granny Smith       0.98      1.00      0.99        47\n",
            "    Apple Pink Lady       0.98      1.00      0.99        43\n",
            "        Apple Red 1       1.00      1.00      1.00        36\n",
            "        Apple Red 2       1.00      1.00      1.00        37\n",
            "        Apple Red 3       1.00      1.00      1.00        47\n",
            "Apple Red Delicious       1.00      1.00      1.00        44\n",
            " Apple Red Yellow 1       1.00      1.00      1.00        32\n",
            " Apple Red Yellow 2       1.00      1.00      1.00        41\n",
            "            Apricot       1.00      1.00      1.00        33\n",
            "            Avocado       1.00      1.00      1.00        43\n",
            "       Avocado ripe       1.00      0.98      0.99        46\n",
            "             Banana       0.98      0.95      0.97        44\n",
            " Banana Lady Finger       0.95      0.97      0.96        36\n",
            "         Banana Red       1.00      0.97      0.98        33\n",
            "           Beetroot       1.00      0.93      0.96        44\n",
            "          Blueberry       0.97      1.00      0.99        38\n",
            "       Cactus fruit       1.00      1.00      1.00        37\n",
            "       Cantaloupe 1       1.00      1.00      1.00        33\n",
            "       Cantaloupe 2       1.00      1.00      1.00        42\n",
            "          Carambula       1.00      1.00      1.00        34\n",
            "        Cauliflower       1.00      1.00      1.00        46\n",
            "           Cherry 1       1.00      1.00      1.00        50\n",
            "           Cherry 2       1.00      1.00      1.00        43\n",
            "     Cherry Rainier       1.00      0.97      0.99        39\n",
            "   Cherry Wax Black       1.00      1.00      1.00        36\n",
            "     Cherry Wax Red       1.00      1.00      1.00        41\n",
            "  Cherry Wax Yellow       1.00      1.00      1.00        45\n",
            "           Chestnut       1.00      1.00      1.00        43\n",
            "         Clementine       1.00      1.00      1.00        51\n",
            "              Cocos       0.97      1.00      0.99        33\n",
            "               Corn       1.00      1.00      1.00        33\n",
            "          Corn Husk       1.00      1.00      1.00        53\n",
            "      Cucumber Ripe       1.00      1.00      1.00        33\n",
            "    Cucumber Ripe 2       1.00      1.00      1.00        41\n",
            "              Dates       1.00      1.00      1.00        32\n",
            "           Eggplant       1.00      1.00      1.00        35\n",
            "                Fig       1.00      1.00      1.00        36\n",
            "        Ginger Root       1.00      1.00      1.00        27\n",
            "         Granadilla       1.00      0.98      0.99        50\n",
            "         Grape Blue       1.00      0.97      0.99        36\n",
            "         Grape Pink       0.97      1.00      0.99        36\n",
            "        Grape White       1.00      1.00      1.00        37\n",
            "      Grape White 2       0.97      1.00      0.99        33\n",
            "      Grape White 3       1.00      1.00      1.00        34\n",
            "      Grape White 4       0.97      1.00      0.99        37\n",
            "    Grapefruit Pink       1.00      1.00      1.00        46\n",
            "   Grapefruit White       1.00      1.00      1.00        37\n",
            "              Guava       0.98      1.00      0.99        48\n",
            "           Hazelnut       1.00      1.00      1.00        42\n",
            "        Huckleberry       1.00      1.00      1.00        44\n",
            "               Kaki       1.00      1.00      1.00        47\n",
            "               Kiwi       1.00      1.00      1.00        40\n",
            "           Kohlrabi       1.00      1.00      1.00        35\n",
            "           Kumquats       1.00      1.00      1.00        40\n",
            "              Lemon       1.00      1.00      1.00        38\n",
            "        Lemon Meyer       1.00      1.00      1.00        39\n",
            "              Limes       1.00      1.00      1.00        39\n",
            "             Lychee       1.00      1.00      1.00        40\n",
            "          Mandarine       1.00      1.00      1.00        43\n",
            "              Mango       1.00      1.00      1.00        50\n",
            "          Mango Red       1.00      1.00      1.00        37\n",
            "          Mangostan       1.00      1.00      1.00        38\n",
            "           Maracuja       1.00      1.00      1.00        35\n",
            " Melon Piel de Sapo       0.97      1.00      0.99        37\n",
            "           Mulberry       1.00      1.00      1.00        29\n",
            "          Nectarine       1.00      1.00      1.00        46\n",
            "     Nectarine Flat       1.00      1.00      1.00        34\n",
            "         Nut Forest       1.00      1.00      1.00        48\n",
            "          Nut Pecan       1.00      1.00      1.00        39\n",
            "          Onion Red       0.98      1.00      0.99        43\n",
            "   Onion Red Peeled       0.97      0.97      0.97        39\n",
            "        Onion White       1.00      1.00      1.00        45\n",
            "             Orange       1.00      1.00      1.00        48\n",
            "             Papaya       1.00      1.00      1.00        32\n",
            "      Passion Fruit       1.00      1.00      1.00        39\n",
            "              Peach       1.00      1.00      1.00        35\n",
            "            Peach 2       1.00      1.00      1.00        36\n",
            "         Peach Flat       1.00      1.00      1.00        54\n",
            "               Pear       1.00      0.96      0.98        48\n",
            "             Pear 2       1.00      0.98      0.99        41\n",
            "         Pear Abate       1.00      1.00      1.00        44\n",
            "       Pear Forelle       1.00      0.95      0.98        42\n",
            "        Pear Kaiser       0.97      1.00      0.99        39\n",
            "       Pear Monster       1.00      1.00      1.00        43\n",
            "           Pear Red       1.00      0.98      0.99        46\n",
            "         Pear Stone       0.93      0.95      0.94        42\n",
            "      Pear Williams       1.00      1.00      1.00        47\n",
            "             Pepino       1.00      1.00      1.00        41\n",
            "       Pepper Green       1.00      1.00      1.00        40\n",
            "      Pepper Orange       1.00      1.00      1.00        28\n",
            "         Pepper Red       1.00      1.00      1.00        40\n",
            "      Pepper Yellow       1.00      1.00      1.00        34\n",
            "           Physalis       1.00      1.00      1.00        31\n",
            " Physalis with Husk       1.00      1.00      1.00        34\n",
            "          Pineapple       1.00      0.97      0.99        35\n",
            "     Pineapple Mini       1.00      1.00      1.00        44\n",
            "       Pitahaya Red       0.98      1.00      0.99        41\n",
            "               Plum       1.00      0.98      0.99        48\n",
            "             Plum 2       1.00      1.00      1.00        44\n",
            "             Plum 3       1.00      1.00      1.00        49\n",
            "        Pomegranate       1.00      1.00      1.00        37\n",
            "     Pomelo Sweetie       1.00      1.00      1.00        44\n",
            "         Potato Red       0.97      1.00      0.99        39\n",
            "  Potato Red Washed       1.00      1.00      1.00        40\n",
            "       Potato Sweet       0.98      1.00      0.99        40\n",
            "       Potato White       1.00      1.00      1.00        42\n",
            "             Quince       1.00      1.00      1.00        49\n",
            "           Rambutan       1.00      1.00      1.00        39\n",
            "          Raspberry       1.00      1.00      1.00        32\n",
            "         Redcurrant       1.00      1.00      1.00        40\n",
            "              Salak       1.00      1.00      1.00        32\n",
            "         Strawberry       1.00      1.00      1.00        38\n",
            "   Strawberry Wedge       1.00      1.00      1.00        42\n",
            "          Tamarillo       1.00      0.97      0.99        38\n",
            "            Tangelo       1.00      1.00      1.00        41\n",
            "           Tomato 1       1.00      1.00      1.00        40\n",
            "           Tomato 2       1.00      0.95      0.98        44\n",
            "           Tomato 3       1.00      1.00      1.00        32\n",
            "           Tomato 4       0.98      1.00      0.99        50\n",
            "  Tomato Cherry Red       1.00      1.00      1.00        42\n",
            "       Tomato Heart       1.00      1.00      1.00        46\n",
            "      Tomato Maroon       1.00      1.00      1.00        31\n",
            "      Tomato Yellow       1.00      1.00      1.00        34\n",
            " Tomato not Ripened       1.00      1.00      1.00        45\n",
            "             Walnut       1.00      1.00      1.00        32\n",
            "         Watermelon       0.97      1.00      0.99        37\n",
            "\n",
            "           accuracy                           1.00      5240\n",
            "          macro avg       1.00      1.00      1.00      5240\n",
            "       weighted avg       1.00      1.00      1.00      5240\n",
            "\n"
          ]
        },
        {
          "output_type": "display_data",
          "data": {
            "text/plain": [
              "<Figure size 640x480 with 2 Axes>"
            ],
            "image/png": "[encoded data removed]"
          },
          "metadata": {}
        }
      ],
      "source": [
        "\n",
        "knn = KNeighborsClassifier(n_neighbors=3)\n",
        "knn.fit(X_train, y_train)\n",
        "y_pred_knn = knn.predict(X_test)\n",
        "\n",
        "print(\"KNN Accuracy:\", accuracy_score(y_test, y_pred_knn))\n",
        "\n",
        "print(classification_report(y_test, y_pred_knn, target_names=le.classes_))\n",
        "sns.heatmap(confusion_matrix(y_test, y_pred_knn), cmap=\"Blues\")\n",
        "plt.title(\"Confusion Matrix - KNN\")\n",
        "plt.show()\n"
      ]
    },
    {
      "cell_type": "markdown",
      "id": "e511765e",
      "metadata": {
        "id": "e511765e"
      },
      "source": [
        "## 📈 Modèle 2 : Régression Linéaire (RidgeClassifier)"
      ]
    },
    {
      "cell_type": "code",
      "execution_count": 13,
      "id": "f6a7abd0",
      "metadata": {
        "colab": {
          "base_uri": "https://localhost:8080/",
          "height": 1000
        },
        "id": "f6a7abd0",
        "outputId": "73f131b8-e4ec-4530-af53-4ef99b94c6ab"
      },
      "outputs": [
        {
          "output_type": "stream",
          "name": "stdout",
          "text": [
            "RidgeClassifier Accuracy: 0.7103053435114504\n",
            "                     precision    recall  f1-score   support\n",
            "\n",
            "     Apple Braeburn       0.62      0.87      0.72        39\n",
            " Apple Crimson Snow       0.54      0.86      0.67        36\n",
            "     Apple Golden 1       0.52      0.81      0.63        31\n",
            "     Apple Golden 2       0.84      0.67      0.74        48\n",
            "     Apple Golden 3       0.96      0.51      0.67        47\n",
            " Apple Granny Smith       0.67      0.66      0.67        47\n",
            "    Apple Pink Lady       1.00      0.56      0.72        43\n",
            "        Apple Red 1       0.61      0.56      0.58        36\n",
            "        Apple Red 2       0.70      0.51      0.59        37\n",
            "        Apple Red 3       0.72      0.62      0.67        47\n",
            "Apple Red Delicious       0.89      0.70      0.78        44\n",
            " Apple Red Yellow 1       0.73      0.94      0.82        32\n",
            " Apple Red Yellow 2       0.71      0.49      0.58        41\n",
            "            Apricot       0.69      0.55      0.61        33\n",
            "            Avocado       0.52      0.77      0.62        43\n",
            "       Avocado ripe       0.81      0.63      0.71        46\n",
            "             Banana       0.58      0.77      0.66        44\n",
            " Banana Lady Finger       1.00      0.22      0.36        36\n",
            "         Banana Red       0.77      0.70      0.73        33\n",
            "           Beetroot       0.83      0.66      0.73        44\n",
            "          Blueberry       0.47      0.84      0.60        38\n",
            "       Cactus fruit       0.50      0.54      0.52        37\n",
            "       Cantaloupe 1       0.63      1.00      0.78        33\n",
            "       Cantaloupe 2       1.00      0.57      0.73        42\n",
            "          Carambula       0.70      0.62      0.66        34\n",
            "        Cauliflower       0.93      0.28      0.43        46\n",
            "           Cherry 1       0.62      1.00      0.77        50\n",
            "           Cherry 2       0.90      0.42      0.57        43\n",
            "     Cherry Rainier       0.90      0.23      0.37        39\n",
            "   Cherry Wax Black       0.42      1.00      0.60        36\n",
            "     Cherry Wax Red       0.89      0.59      0.71        41\n",
            "  Cherry Wax Yellow       0.79      1.00      0.88        45\n",
            "           Chestnut       0.62      0.67      0.64        43\n",
            "         Clementine       0.49      1.00      0.66        51\n",
            "              Cocos       0.76      0.58      0.66        33\n",
            "               Corn       0.51      1.00      0.67        33\n",
            "          Corn Husk       0.62      0.92      0.74        53\n",
            "      Cucumber Ripe       0.84      0.48      0.62        33\n",
            "    Cucumber Ripe 2       0.47      0.85      0.61        41\n",
            "              Dates       0.77      0.62      0.69        32\n",
            "           Eggplant       0.52      0.89      0.65        35\n",
            "                Fig       0.84      0.75      0.79        36\n",
            "        Ginger Root       0.67      0.30      0.41        27\n",
            "         Granadilla       0.96      0.54      0.69        50\n",
            "         Grape Blue       0.71      0.83      0.77        36\n",
            "         Grape Pink       0.74      0.81      0.77        36\n",
            "        Grape White       1.00      0.73      0.84        37\n",
            "      Grape White 2       0.54      1.00      0.70        33\n",
            "      Grape White 3       0.87      1.00      0.93        34\n",
            "      Grape White 4       0.70      0.81      0.75        37\n",
            "    Grapefruit Pink       0.92      1.00      0.96        46\n",
            "   Grapefruit White       0.65      1.00      0.79        37\n",
            "              Guava       0.95      0.83      0.89        48\n",
            "           Hazelnut       0.92      0.83      0.88        42\n",
            "        Huckleberry       0.66      1.00      0.79        44\n",
            "               Kaki       0.66      0.85      0.74        47\n",
            "               Kiwi       0.79      0.47      0.59        40\n",
            "           Kohlrabi       0.61      0.66      0.63        35\n",
            "           Kumquats       0.88      0.72      0.79        40\n",
            "              Lemon       0.83      0.63      0.72        38\n",
            "        Lemon Meyer       0.61      0.72      0.66        39\n",
            "              Limes       0.87      0.69      0.77        39\n",
            "             Lychee       0.79      0.57      0.67        40\n",
            "          Mandarine       0.82      0.65      0.73        43\n",
            "              Mango       0.78      0.86      0.82        50\n",
            "          Mango Red       0.70      0.76      0.73        37\n",
            "          Mangostan       0.85      0.61      0.71        38\n",
            "           Maracuja       0.73      0.94      0.82        35\n",
            " Melon Piel de Sapo       0.76      0.43      0.55        37\n",
            "           Mulberry       0.57      1.00      0.72        29\n",
            "          Nectarine       0.59      0.28      0.38        46\n",
            "     Nectarine Flat       0.87      0.59      0.70        34\n",
            "         Nut Forest       0.59      0.48      0.53        48\n",
            "          Nut Pecan       0.66      0.79      0.72        39\n",
            "          Onion Red       0.94      0.37      0.53        43\n",
            "   Onion Red Peeled       0.74      0.67      0.70        39\n",
            "        Onion White       0.91      0.87      0.89        45\n",
            "             Orange       0.46      0.94      0.62        48\n",
            "             Papaya       0.92      0.34      0.50        32\n",
            "      Passion Fruit       0.84      0.95      0.89        39\n",
            "              Peach       0.90      0.51      0.65        35\n",
            "            Peach 2       0.81      0.97      0.89        36\n",
            "         Peach Flat       0.78      0.39      0.52        54\n",
            "               Pear       0.90      0.56      0.69        48\n",
            "             Pear 2       0.72      0.68      0.70        41\n",
            "         Pear Abate       0.84      0.48      0.61        44\n",
            "       Pear Forelle       0.61      0.74      0.67        42\n",
            "        Pear Kaiser       0.85      0.72      0.78        39\n",
            "       Pear Monster       0.89      0.77      0.82        43\n",
            "           Pear Red       0.94      0.70      0.80        46\n",
            "         Pear Stone       0.92      0.52      0.67        42\n",
            "      Pear Williams       1.00      0.43      0.60        47\n",
            "             Pepino       0.85      0.83      0.84        41\n",
            "       Pepper Green       0.59      0.90      0.71        40\n",
            "      Pepper Orange       0.57      0.93      0.70        28\n",
            "         Pepper Red       0.94      0.80      0.86        40\n",
            "      Pepper Yellow       0.80      0.71      0.75        34\n",
            "           Physalis       0.78      1.00      0.87        31\n",
            " Physalis with Husk       0.93      0.74      0.82        34\n",
            "          Pineapple       0.66      0.77      0.71        35\n",
            "     Pineapple Mini       0.97      0.84      0.90        44\n",
            "       Pitahaya Red       0.85      0.83      0.84        41\n",
            "               Plum       0.68      0.81      0.74        48\n",
            "             Plum 2       0.78      0.98      0.87        44\n",
            "             Plum 3       0.95      0.37      0.53        49\n",
            "        Pomegranate       0.55      0.70      0.62        37\n",
            "     Pomelo Sweetie       0.60      1.00      0.75        44\n",
            "         Potato Red       1.00      0.15      0.27        39\n",
            "  Potato Red Washed       0.58      0.28      0.37        40\n",
            "       Potato Sweet       0.80      0.30      0.44        40\n",
            "       Potato White       0.62      0.24      0.34        42\n",
            "             Quince       0.93      0.78      0.84        49\n",
            "           Rambutan       0.88      0.77      0.82        39\n",
            "          Raspberry       0.47      1.00      0.64        32\n",
            "         Redcurrant       0.83      1.00      0.91        40\n",
            "              Salak       0.56      0.78      0.65        32\n",
            "         Strawberry       0.69      0.92      0.79        38\n",
            "   Strawberry Wedge       1.00      0.29      0.44        42\n",
            "          Tamarillo       0.59      0.87      0.70        38\n",
            "            Tangelo       0.85      0.56      0.68        41\n",
            "           Tomato 1       0.75      0.97      0.85        40\n",
            "           Tomato 2       0.59      0.52      0.55        44\n",
            "           Tomato 3       0.67      0.62      0.65        32\n",
            "           Tomato 4       0.74      1.00      0.85        50\n",
            "  Tomato Cherry Red       0.79      1.00      0.88        42\n",
            "       Tomato Heart       0.88      0.83      0.85        46\n",
            "      Tomato Maroon       1.00      0.94      0.97        31\n",
            "      Tomato Yellow       0.87      0.76      0.81        34\n",
            " Tomato not Ripened       0.68      0.89      0.77        45\n",
            "             Walnut       0.75      0.94      0.83        32\n",
            "         Watermelon       0.72      0.89      0.80        37\n",
            "\n",
            "           accuracy                           0.71      5240\n",
            "          macro avg       0.75      0.71      0.70      5240\n",
            "       weighted avg       0.76      0.71      0.70      5240\n",
            "\n"
          ]
        },
        {
          "output_type": "display_data",
          "data": {
            "text/plain": [
              "<Figure size 640x480 with 2 Axes>"
            ],
            "image/png": "[encoded data removed]"
          },
          "metadata": {}
        }
      ],
      "source": [
        "\n",
        "ridge = RidgeClassifier()\n",
        "ridge.fit(X_train, y_train)\n",
        "y_pred_ridge = ridge.predict(X_test)\n",
        "\n",
        "print(\"RidgeClassifier Accuracy:\", accuracy_score(y_test, y_pred_ridge))\n",
        "print(classification_report(y_test, y_pred_ridge, target_names=le.classes_))\n",
        "sns.heatmap(confusion_matrix(y_test, y_pred_ridge), cmap=\"Greens\")\n",
        "plt.title(\"Confusion Matrix - Régression Linéaire\")\n",
        "plt.show()\n"
      ]
    },
    {
      "cell_type": "markdown",
      "id": "850172f1",
      "metadata": {
        "id": "850172f1"
      },
      "source": [
        "## ✅ Conclusion"
      ]
    },
    {
      "cell_type": "markdown",
      "id": "51cb1417",
      "metadata": {
        "id": "51cb1417"
      },
      "source": [
        "Résumé des résultats\n",
        "Critère\tKNN\tRidgeClassifier\n",
        "Accuracy\t✅ 0.9952 (~99.5%)\t⚠️ 0.7103 (~71%)\n",
        "Macro F1-score\t✅ 1.00\t⚠️ 0.70\n",
        "Weighted F1-score\t✅ 1.00\t⚠️ 0.70\n",
        "Stabilité par classe\tTrès homogène\tVariable, beaucoup de classes mal reconnues\n",
        "Temps d'entraînement\t⚠️ Long (car paresseux)\t✅ Rapide\n",
        "Capacité à généraliser\tBonne mais coûteuse\tMoyenne à faible\n",
        "\n",
        "---\n",
        "\n",
        "\n",
        "\n",
        "✅ Interprétation\n",
        "🔹 KNN :\n",
        "Classifie presque parfaitement toutes les classes, même dans un dataset aussi riche que Fruits 360.\n",
        "\n",
        "F1-score, précision et rappel sont très proches de 1.00 pour toutes les classes.\n",
        "\n",
        "❗ Inconvénient : temps de prédiction long sur de grands datasets car il doit comparer chaque nouvel échantillon à tout l’ensemble d’entraînement.\n",
        "\n",
        "🔸 RidgeClassifier (Régression linéaire) :\n",
        "Moins adapté aux images (il fait des hypothèses linéaires trop simples).\n",
        "\n",
        "Performances très variables selon les classes.\n",
        "\n",
        "Certaines ont un F1-score de 0.30 à 0.50.\n",
        "\n",
        "Beaucoup de confusion entre classes visuellement proches.\n",
        "\n",
        "✅ Bon pour tester rapidement un pipeline, mais pas le meilleur choix pour des données d’image.\n",
        "\n",
        "🧠 Conclusion recommandée\n",
        "Le modèle KNN surpasse largement la régression linéaire en termes de précision, de stabilité et de reconnaissance par classe sur le dataset Fruits 360.\n",
        "Cependant, KNN est plus coûteux en mémoire et en calcul, ce qui peut être problématique à grande échelle."
      ]
    }
  ],
  "metadata": {
    "kernelspec": {
      "display_name": "Python 3",
      "language": "python",
      "name": "python3"
    },
    "language_info": {
      "name": "python",
      "version": "3.13.2"
    },
    "colab": {
      "provenance": []
    }
  },
  "nbformat": 4,
  "nbformat_minor": 5
}
