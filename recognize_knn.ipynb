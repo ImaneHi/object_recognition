{
 "cells": [
  {
   "cell_type": "code",
   "execution_count": 1,
   "id": "cc5e1ab1",
   "metadata": {},
   "outputs": [
    {
     "name": "stderr",
     "output_type": "stream",
     "text": [
      "C:\\Users\\pc\\AppData\\Roaming\\Python\\Python313\\site-packages\\tqdm\\auto.py:21: TqdmWarning: IProgress not found. Please update jupyter and ipywidgets. See https://ipywidgets.readthedocs.io/en/stable/user_install.html\n",
      "  from .autonotebook import tqdm as notebook_tqdm\n"
     ]
    },
    {
     "name": "stdout",
     "output_type": "stream",
     "text": [
      "✅ Dataset already present.\n"
     ]
    },
    {
     "name": "stderr",
     "output_type": "stream",
     "text": [
      "C:\\Users\\pc\\AppData\\Roaming\\Python\\Python313\\site-packages\\sklearn\\decomposition\\_pca.py:775: RuntimeWarning: overflow encountered in square\n",
      "  self.explained_variance_ = (S**2) / (n_samples - 1)\n",
      "C:\\Users\\pc\\AppData\\Roaming\\Python\\Python313\\site-packages\\sklearn\\decomposition\\_pca.py:786: RuntimeWarning: overflow encountered in square\n",
      "  X_centered **= 2\n",
      "C:\\Users\\pc\\AppData\\Roaming\\Python\\Python313\\site-packages\\sklearn\\decomposition\\_pca.py:789: RuntimeWarning: invalid value encountered in divide\n",
      "  self.explained_variance_ratio_ = self.explained_variance_ / total_var\n",
      "C:\\Users\\pc\\AppData\\Roaming\\Python\\Python313\\site-packages\\sklearn\\decomposition\\_pca.py:793: RuntimeWarning: invalid value encountered in scalar subtract\n",
      "  self.noise_variance_ = total_var - xp.sum(self.explained_variance_)\n"
     ]
    },
    {
     "name": "stdout",
     "output_type": "stream",
     "text": [
      "✅ KNN Accuracy: 0.007442748091603053\n",
      "* Running on local URL:  http://127.0.0.1:7860\n",
      "* To create a public link, set `share=True` in `launch()`.\n"
     ]
    },
    {
     "data": {
      "text/html": [
       "<div><iframe src=\"http://127.0.0.1:7860/\" width=\"100%\" height=\"500\" allow=\"autoplay; camera; microphone; clipboard-read; clipboard-write;\" frameborder=\"0\" allowfullscreen></iframe></div>"
      ],
      "text/plain": [
       "<IPython.core.display.HTML object>"
      ]
     },
     "metadata": {},
     "output_type": "display_data"
    }
   ],
   "source": [
    "import os\n",
    "import zipfile\n",
    "import urllib.request\n",
    "import numpy as np\n",
    "from PIL import Image\n",
    "from sklearn.preprocessing import LabelEncoder\n",
    "from sklearn.model_selection import train_test_split\n",
    "from sklearn.decomposition import PCA\n",
    "from sklearn.neighbors import KNeighborsClassifier\n",
    "from sklearn.metrics import accuracy_score\n",
    "import gradio as gr\n",
    "\n",
    "def download_dataset():\n",
    "    dataset_url = \"https://github.com/Horea94/Fruit-Images-Dataset/archive/master.zip\"\n",
    "    dataset_zip_path = \"fruits_dataset.zip\"\n",
    "    extracted_path = \"Fruit-Images-Dataset-master\"\n",
    "\n",
    "    if not os.path.exists(extracted_path):\n",
    "        print(\"Downloading Fruits-360 dataset...\")\n",
    "        urllib.request.urlretrieve(dataset_url, dataset_zip_path)\n",
    "        with zipfile.ZipFile(dataset_zip_path, 'r') as zip_ref:\n",
    "            zip_ref.extractall(\".\")\n",
    "        print(\"✅ Dataset extracted successfully.\")\n",
    "    else:\n",
    "        print(\"✅ Dataset already present.\")\n",
    "\n",
    "    return extracted_path\n",
    "\n",
    "def load_images(folder, image_size=(64, 64), max_per_class=200):\n",
    "    images, labels = [], []\n",
    "    training_path = os.path.join(folder, \"Training\")\n",
    "    for class_name in os.listdir(training_path):\n",
    "        class_path = os.path.join(training_path, class_name)\n",
    "        if not os.path.isdir(class_path):\n",
    "            continue\n",
    "        for i, img_name in enumerate(os.listdir(class_path)):\n",
    "            if i >= max_per_class:\n",
    "                break\n",
    "            try:\n",
    "                img = Image.open(os.path.join(class_path, img_name)).convert('RGB').resize(image_size)\n",
    "                images.append(np.array(img))\n",
    "                labels.append(class_name.lower())\n",
    "            except:\n",
    "                continue\n",
    "    return np.array(images), np.array(labels)\n",
    "\n",
    "def train_knn_model(X_train, X_test, y_train, y_test):\n",
    "    X_train_flat = X_train.reshape(X_train.shape[0], -1)\n",
    "    X_test_flat = X_test.reshape(X_test.shape[0], -1)\n",
    "\n",
    "    pca = PCA(n_components=100)\n",
    "    X_train_pca = pca.fit_transform(X_train_flat)\n",
    "    X_test_pca = pca.transform(X_test_flat)\n",
    "\n",
    "    knn = KNeighborsClassifier(n_neighbors=5)\n",
    "    knn.fit(X_train_pca, y_train)\n",
    "\n",
    "    y_pred = knn.predict(X_test_pca)\n",
    "    print(\"✅ KNN Accuracy:\", accuracy_score(y_test, y_pred))\n",
    "    return knn, pca\n",
    "\n",
    "def predict(image, le, knn, pca):\n",
    "    img = image.resize((64, 64)).convert('RGB')\n",
    "    img_array = np.array(img).reshape(1, -1)\n",
    "    img_pca = pca.transform(img_array)\n",
    "    prediction = knn.predict(img_pca)\n",
    "    return f\"Predicted Fruit (KNN): {le.inverse_transform(prediction)[0]}\"\n",
    "\n",
    "def main():\n",
    "    dataset_folder = download_dataset()\n",
    "    X, y = load_images(dataset_folder)\n",
    "    X = X / 255.0\n",
    "\n",
    "    le = LabelEncoder()\n",
    "    y_encoded = le.fit_transform(y)\n",
    "\n",
    "    X_train, X_test, y_train, y_test = train_test_split(X, y_encoded, test_size=0.2, random_state=42)\n",
    "    knn, pca = train_knn_model(X_train, X_test, y_train, y_test)\n",
    "\n",
    "    gr.Interface(\n",
    "        fn=lambda img: predict(img, le, knn, pca),\n",
    "        inputs=gr.Image(type=\"pil\", label=\"Upload Fruit Image\"),\n",
    "        outputs=\"text\",\n",
    "        title=\"🍎 Fruit Classification with KNN\",\n",
    "        description=\"Upload a fruit image to classify it using K-Nearest Neighbors\"\n",
    "    ).launch()\n",
    "\n",
    "if __name__ == \"__main__\":\n",
    "    main()\n"
   ]
  }
 ],
 "metadata": {
  "kernelspec": {
   "display_name": "Python 3",
   "language": "python",
   "name": "python3"
  },
  "language_info": {
   "codemirror_mode": {
    "name": "ipython",
    "version": 3
   },
   "file_extension": ".py",
   "mimetype": "text/x-python",
   "name": "python",
   "nbconvert_exporter": "python",
   "pygments_lexer": "ipython3",
   "version": "3.13.2"
  }
 },
 "nbformat": 4,
 "nbformat_minor": 5
}
